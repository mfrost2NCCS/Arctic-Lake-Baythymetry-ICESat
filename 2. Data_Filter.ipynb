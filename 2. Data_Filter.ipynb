{
 "cells": [
  {
   "cell_type": "markdown",
   "id": "539b177d-0363-4f41-9f93-0e5c6cbc9e81",
   "metadata": {},
   "source": [
    "# Arctic Lake Bathymetry\n",
    "#### Filtering by data variables - ICESat ATL13\n",
    "#### Melanie Frost\n",
    "#### 4/18/2023"
   ]
  },
  {
   "cell_type": "code",
   "execution_count": 2,
   "id": "c6bf7c2c-1cce-4652-aab8-350c29529a50",
   "metadata": {},
   "outputs": [],
   "source": [
    "import pandas as pd\n",
    "import numpy as np\n",
    "import datetime as dt\n",
    "import geopy.distance"
   ]
  },
  {
   "cell_type": "code",
   "execution_count": 4,
   "id": "d429e6e0-e91a-4a66-8eeb-280c9fd6c414",
   "metadata": {},
   "outputs": [
    {
     "data": {
      "text/html": [
       "<div>\n",
       "<style scoped>\n",
       "    .dataframe tbody tr th:only-of-type {\n",
       "        vertical-align: middle;\n",
       "    }\n",
       "\n",
       "    .dataframe tbody tr th {\n",
       "        vertical-align: top;\n",
       "    }\n",
       "\n",
       "    .dataframe thead th {\n",
       "        text-align: right;\n",
       "    }\n",
       "</style>\n",
       "<table border=\"1\" class=\"dataframe\">\n",
       "  <thead>\n",
       "    <tr style=\"text-align: right;\">\n",
       "      <th></th>\n",
       "      <th>cycle</th>\n",
       "      <th>id</th>\n",
       "      <th>size</th>\n",
       "      <th>type</th>\n",
       "      <th>cloud_flag</th>\n",
       "      <th>bkgrd_flag</th>\n",
       "      <th>shallow_flag</th>\n",
       "      <th>wind_flag</th>\n",
       "      <th>rgt</th>\n",
       "      <th>seg_lat</th>\n",
       "      <th>...</th>\n",
       "      <th>qual0</th>\n",
       "      <th>qual1</th>\n",
       "      <th>qual2</th>\n",
       "      <th>qual3</th>\n",
       "      <th>orientation</th>\n",
       "      <th>beg_lat</th>\n",
       "      <th>beg_lon</th>\n",
       "      <th>end_lat</th>\n",
       "      <th>end_lon</th>\n",
       "      <th>sc_orient</th>\n",
       "    </tr>\n",
       "  </thead>\n",
       "  <tbody>\n",
       "    <tr>\n",
       "      <th>0</th>\n",
       "      <td>4</td>\n",
       "      <td>4009051</td>\n",
       "      <td>0</td>\n",
       "      <td>7</td>\n",
       "      <td>0</td>\n",
       "      <td>2</td>\n",
       "      <td>-1</td>\n",
       "      <td>0</td>\n",
       "      <td>183</td>\n",
       "      <td>70.712450</td>\n",
       "      <td>...</td>\n",
       "      <td>109</td>\n",
       "      <td>0</td>\n",
       "      <td>0</td>\n",
       "      <td>0</td>\n",
       "      <td>NaN</td>\n",
       "      <td>70.712665</td>\n",
       "      <td>-160.126315</td>\n",
       "      <td>70.712665</td>\n",
       "      <td>-160.126492</td>\n",
       "      <td>0.0</td>\n",
       "    </tr>\n",
       "    <tr>\n",
       "      <th>1</th>\n",
       "      <td>4</td>\n",
       "      <td>4009051</td>\n",
       "      <td>0</td>\n",
       "      <td>7</td>\n",
       "      <td>0</td>\n",
       "      <td>2</td>\n",
       "      <td>-1</td>\n",
       "      <td>0</td>\n",
       "      <td>183</td>\n",
       "      <td>70.711955</td>\n",
       "      <td>...</td>\n",
       "      <td>117</td>\n",
       "      <td>0</td>\n",
       "      <td>0</td>\n",
       "      <td>0</td>\n",
       "      <td>NaN</td>\n",
       "      <td>70.712209</td>\n",
       "      <td>-160.126492</td>\n",
       "      <td>70.712209</td>\n",
       "      <td>-160.126707</td>\n",
       "      <td>0.0</td>\n",
       "    </tr>\n",
       "    <tr>\n",
       "      <th>2</th>\n",
       "      <td>4</td>\n",
       "      <td>4009051</td>\n",
       "      <td>0</td>\n",
       "      <td>7</td>\n",
       "      <td>0</td>\n",
       "      <td>2</td>\n",
       "      <td>-1</td>\n",
       "      <td>0</td>\n",
       "      <td>183</td>\n",
       "      <td>70.711497</td>\n",
       "      <td>...</td>\n",
       "      <td>106</td>\n",
       "      <td>0</td>\n",
       "      <td>0</td>\n",
       "      <td>0</td>\n",
       "      <td>NaN</td>\n",
       "      <td>70.711663</td>\n",
       "      <td>-160.126707</td>\n",
       "      <td>70.711663</td>\n",
       "      <td>-160.126835</td>\n",
       "      <td>0.0</td>\n",
       "    </tr>\n",
       "    <tr>\n",
       "      <th>3</th>\n",
       "      <td>4</td>\n",
       "      <td>4009051</td>\n",
       "      <td>0</td>\n",
       "      <td>7</td>\n",
       "      <td>0</td>\n",
       "      <td>2</td>\n",
       "      <td>-1</td>\n",
       "      <td>0</td>\n",
       "      <td>183</td>\n",
       "      <td>70.711161</td>\n",
       "      <td>...</td>\n",
       "      <td>110</td>\n",
       "      <td>0</td>\n",
       "      <td>0</td>\n",
       "      <td>0</td>\n",
       "      <td>NaN</td>\n",
       "      <td>70.711338</td>\n",
       "      <td>-160.126835</td>\n",
       "      <td>70.711338</td>\n",
       "      <td>-160.126988</td>\n",
       "      <td>0.0</td>\n",
       "    </tr>\n",
       "    <tr>\n",
       "      <th>4</th>\n",
       "      <td>4</td>\n",
       "      <td>4009051</td>\n",
       "      <td>0</td>\n",
       "      <td>7</td>\n",
       "      <td>0</td>\n",
       "      <td>2</td>\n",
       "      <td>-1</td>\n",
       "      <td>0</td>\n",
       "      <td>183</td>\n",
       "      <td>70.710705</td>\n",
       "      <td>...</td>\n",
       "      <td>117</td>\n",
       "      <td>0</td>\n",
       "      <td>0</td>\n",
       "      <td>0</td>\n",
       "      <td>NaN</td>\n",
       "      <td>70.710951</td>\n",
       "      <td>-160.126988</td>\n",
       "      <td>70.710951</td>\n",
       "      <td>-160.127163</td>\n",
       "      <td>0.0</td>\n",
       "    </tr>\n",
       "  </tbody>\n",
       "</table>\n",
       "<p>5 rows × 27 columns</p>\n",
       "</div>"
      ],
      "text/plain": [
       "   cycle       id  size  type  cloud_flag  bkgrd_flag  shallow_flag  \\\n",
       "0      4  4009051     0     7           0           2            -1   \n",
       "1      4  4009051     0     7           0           2            -1   \n",
       "2      4  4009051     0     7           0           2            -1   \n",
       "3      4  4009051     0     7           0           2            -1   \n",
       "4      4  4009051     0     7           0           2            -1   \n",
       "\n",
       "   wind_flag  rgt    seg_lat  ...  qual0  qual1  qual2  qual3  orientation  \\\n",
       "0          0  183  70.712450  ...    109      0      0      0          NaN   \n",
       "1          0  183  70.711955  ...    117      0      0      0          NaN   \n",
       "2          0  183  70.711497  ...    106      0      0      0          NaN   \n",
       "3          0  183  70.711161  ...    110      0      0      0          NaN   \n",
       "4          0  183  70.710705  ...    117      0      0      0          NaN   \n",
       "\n",
       "     beg_lat     beg_lon    end_lat     end_lon  sc_orient  \n",
       "0  70.712665 -160.126315  70.712665 -160.126492        0.0  \n",
       "1  70.712209 -160.126492  70.712209 -160.126707        0.0  \n",
       "2  70.711663 -160.126707  70.711663 -160.126835        0.0  \n",
       "3  70.711338 -160.126835  70.711338 -160.126988        0.0  \n",
       "4  70.710951 -160.126988  70.710951 -160.127163        0.0  \n",
       "\n",
       "[5 rows x 27 columns]"
      ]
     },
     "execution_count": 4,
     "metadata": {},
     "output_type": "execute_result"
    }
   ],
   "source": [
    "df = pd.read_csv('data/ICESat_AKNS.csv')\n",
    "df.head()"
   ]
  },
  {
   "cell_type": "code",
   "execution_count": 5,
   "id": "e90ffc52-1fe5-424a-a9ed-e7ad5ad8f92d",
   "metadata": {},
   "outputs": [
    {
     "data": {
      "text/plain": [
       "(1282216, 27)"
      ]
     },
     "execution_count": 5,
     "metadata": {},
     "output_type": "execute_result"
    }
   ],
   "source": [
    "df.shape"
   ]
  },
  {
   "cell_type": "code",
   "execution_count": 6,
   "id": "3734caff-cf13-4dcf-b92e-c94c076257ed",
   "metadata": {},
   "outputs": [
    {
     "data": {
      "text/plain": [
       "(482262, 27)"
      ]
     },
     "execution_count": 6,
     "metadata": {},
     "output_type": "execute_result"
    }
   ],
   "source": [
    "#Filter type: lake = 1\n",
    "df = df.loc[df['type'] == 1]\n",
    "df.shape"
   ]
  },
  {
   "cell_type": "code",
   "execution_count": 7,
   "id": "cbc17b8a-a716-4028-918c-6b908d0249ab",
   "metadata": {},
   "outputs": [
    {
     "data": {
      "text/plain": [
       "(358966, 27)"
      ]
     },
     "execution_count": 7,
     "metadata": {},
     "output_type": "execute_result"
    }
   ],
   "source": [
    "#Filter 1-July - 15-Sept\n",
    "df['start_date'] = pd.to_datetime(df['start_date'])\n",
    "# df['month'] = df['start_date'].dt.month\n",
    "# df['day'] = df['start_date'].dt.day\n",
    "df = df.loc[(df['start_date'].dt.month == 7) | (df['start_date'].dt.month == 8) |\n",
    "            ((df['start_date'].dt.month == 9) & (df['start_date'].dt.day <= 15))]\n",
    "df.shape"
   ]
  },
  {
   "cell_type": "code",
   "execution_count": 8,
   "id": "a23b7cbe-3108-44d3-b46a-084eb161246f",
   "metadata": {},
   "outputs": [
    {
     "data": {
      "text/plain": [
       "(358966, 27)"
      ]
     },
     "execution_count": 8,
     "metadata": {},
     "output_type": "execute_result"
    }
   ],
   "source": [
    "#Filter size (does not = 7)\n",
    "df = df[df['size'] != 7]\n",
    "df.shape"
   ]
  },
  {
   "cell_type": "code",
   "execution_count": 9,
   "id": "85e52b5f-e41c-4a82-86ed-a29acc009b9b",
   "metadata": {},
   "outputs": [
    {
     "data": {
      "text/plain": [
       "(268638, 27)"
      ]
     },
     "execution_count": 9,
     "metadata": {},
     "output_type": "execute_result"
    }
   ],
   "source": [
    "#Filter cloud (does not = 1)\n",
    "df = df[df['cloud_flag'] != 1]\n",
    "df.shape"
   ]
  },
  {
   "cell_type": "code",
   "execution_count": 10,
   "id": "1607bc0f-a78a-4dfe-b2e7-7823caaa9510",
   "metadata": {},
   "outputs": [
    {
     "data": {
      "text/plain": [
       "(268638, 27)"
      ]
     },
     "execution_count": 10,
     "metadata": {},
     "output_type": "execute_result"
    }
   ],
   "source": [
    "#filter background (does not = 6)\n",
    "df = df[df['bkgrd_flag'] != 6]\n",
    "df['bkgrd_flag'] = np.where(df['bkgrd_flag'] > 100, np.NaN, df['bkgrd_flag'])\n",
    "df.shape"
   ]
  },
  {
   "cell_type": "code",
   "execution_count": 11,
   "id": "861f0b8f-d490-4d30-80b4-6686f1c627fc",
   "metadata": {},
   "outputs": [
    {
     "data": {
      "text/plain": [
       "(268548, 27)"
      ]
     },
     "execution_count": 11,
     "metadata": {},
     "output_type": "execute_result"
    }
   ],
   "source": [
    "#filter shallow <3, >-3\n",
    "df = df[df['shallow_flag'] != 3]\n",
    "df = df[df['shallow_flag'] != -3]\n",
    "df.shape"
   ]
  },
  {
   "cell_type": "code",
   "execution_count": 12,
   "id": "d8ab6ec8-c2ce-48c0-849a-eb5d6ae4ecdd",
   "metadata": {},
   "outputs": [
    {
     "data": {
      "text/plain": [
       "(268428, 27)"
      ]
     },
     "execution_count": 12,
     "metadata": {},
     "output_type": "execute_result"
    }
   ],
   "source": [
    "#filter wind <3, >-3\n",
    "df = df[df['wind_flag'] != 3]\n",
    "df = df[df['wind_flag'] != -3]\n",
    "df.shape"
   ]
  },
  {
   "cell_type": "code",
   "execution_count": 13,
   "id": "eaf9444b-2646-45c2-a0d0-b1cdeb7b7dd2",
   "metadata": {},
   "outputs": [
    {
     "data": {
      "text/plain": [
       "(263303, 27)"
      ]
     },
     "execution_count": 13,
     "metadata": {},
     "output_type": "execute_result"
    }
   ],
   "source": [
    "#filter snow_ice flag 2 (snow), 3 (ice)\n",
    "#for some reason, vast majority of points are labelled as 1 = \"snow-free land\"\n",
    "df = df[df['snow_ice_flag'] < 2]\n",
    "df.shape"
   ]
  },
  {
   "cell_type": "code",
   "execution_count": 14,
   "id": "b77a3143-68a1-47db-adc1-c7578a93ffbc",
   "metadata": {},
   "outputs": [
    {
     "data": {
      "text/plain": [
       "(248439, 27)"
      ]
     },
     "execution_count": 14,
     "metadata": {},
     "output_type": "execute_result"
    }
   ],
   "source": [
    "#filter wave height > 2\n",
    "\n",
    "df = df[df['wave_flag'] < 2]\n",
    "df.shape"
   ]
  },
  {
   "cell_type": "code",
   "execution_count": 15,
   "id": "1a343a90-2f4f-4e74-b65e-96071b64e630",
   "metadata": {
    "tags": []
   },
   "outputs": [],
   "source": [
    "#filter bottom surface anomalies\n",
    "#= 1 = Subsurface anomaly due to bottom likely\n",
    "#= 2 = Subsurface signal may indicate bottom or otheranomaly\n",
    "#= 3 = Possible subsurface anomaly \n",
    "\n",
    "#I am not going to filter as majority of points are 3 or NaN\n",
    "# df = df[df['anomalies'] != 3]\n",
    "\n",
    "#set NaN\n",
    "df['anomalies'] = np.where(df['anomalies'] > 12.5, np.NaN, df['anomalies'])\n",
    "# df.shape"
   ]
  },
  {
   "cell_type": "code",
   "execution_count": 16,
   "id": "88531032-cf67-43bd-ba19-408d075f44b9",
   "metadata": {
    "tags": []
   },
   "outputs": [
    {
     "data": {
      "text/plain": [
       "(115655, 27)"
      ]
     },
     "execution_count": 16,
     "metadata": {},
     "output_type": "execute_result"
    }
   ],
   "source": [
    "#filter depth > 40m\n",
    "##This dropped a lot of points, including NaN points\n",
    "df = df[df['depth'] < 40]\n",
    "df.shape"
   ]
  },
  {
   "cell_type": "code",
   "execution_count": 17,
   "id": "dc7fb5f6-c473-499b-a7df-67be333baf3e",
   "metadata": {},
   "outputs": [
    {
     "data": {
      "text/plain": [
       "(100414, 28)"
      ]
     },
     "execution_count": 17,
     "metadata": {},
     "output_type": "execute_result"
    }
   ],
   "source": [
    "#quality flag - >90% of points must be nominal\n",
    "df['quality_metric'] = df['qual0']/(df['qual0'] + df['qual1'] + df['qual2'] + df['qual3'])\n",
    "df = df[df['quality_metric'] > .90]\n",
    "df.shape"
   ]
  },
  {
   "cell_type": "code",
   "execution_count": 18,
   "id": "19c8cf58-0e61-4893-b7f0-2d23a56f4579",
   "metadata": {},
   "outputs": [
    {
     "name": "stderr",
     "output_type": "stream",
     "text": [
      "<ipython-input-18-3b77c6d9795b>:22: SettingWithCopyWarning: \n",
      "A value is trying to be set on a copy of a slice from a DataFrame.\n",
      "Try using .loc[row_indexer,col_indexer] = value instead\n",
      "\n",
      "See the caveats in the documentation: https://pandas.pydata.org/pandas-docs/stable/user_guide/indexing.html#returning-a-view-versus-a-copy\n",
      "  df_r['beam_strength'] = np.where(df_r['sc_orient'] == 0, 'Strong', 'Weak')\n",
      "<ipython-input-18-3b77c6d9795b>:23: SettingWithCopyWarning: \n",
      "A value is trying to be set on a copy of a slice from a DataFrame.\n",
      "Try using .loc[row_indexer,col_indexer] = value instead\n",
      "\n",
      "See the caveats in the documentation: https://pandas.pydata.org/pandas-docs/stable/user_guide/indexing.html#returning-a-view-versus-a-copy\n",
      "  df_l['beam_strength'] = np.where(df_l['sc_orient'] == 0, 'Weak', 'Strong')\n"
     ]
    },
    {
     "data": {
      "text/plain": [
       "(100414, 29)"
      ]
     },
     "execution_count": 18,
     "metadata": {},
     "output_type": "execute_result"
    }
   ],
   "source": [
    "#beam, forward orientation: L = weak, R = strong, backward orientation: R = strong, L = weak\n",
    "# 0='backward', 1 = 'forward', 2 = 'transition'])\n",
    "\n",
    "#Beams Flying backwards until Sep 7 '19, forwards to May 14 '20, backwards until Jan 15 '21, \n",
    "#forwards until Oct 2 '21, backwards until June 9 '22, forwards until Feb 9 '23\n",
    "\n",
    "#In our time period this means that:\n",
    " #July 1, 2019 - Sep 7, 2019 backward: L = strong, R = Weak\n",
    " #Sep 7, 2019 - Sep 15 2019 forward L = weak, R = Strong\n",
    " #July 1, 2020 - Sep 15, 2020 backward L = strong, R = Weak\n",
    " #July 1, 2021 - Sep 15, 2021 forward L = weak, R = Strong\n",
    " #July 1, 2022 - Sep 15, 2022 forward L = weak, R = Strong\n",
    "\n",
    "#Filter out transistion\n",
    "df = df[df['sc_orient'] <2]\n",
    "df.shape\n",
    "    \n",
    "#split left and right beams\n",
    "df_l = df.loc[df['beam'].str.endswith('l')]\n",
    "df_r = df.loc[df['beam'].str.endswith('r')] \n",
    "\n",
    "df_r['beam_strength'] = np.where(df_r['sc_orient'] == 0, 'Strong', 'Weak')\n",
    "df_l['beam_strength'] = np.where(df_l['sc_orient'] == 0, 'Weak', 'Strong')\n",
    "\n",
    "df = pd.concat([df_r,df_l])\n",
    "df.shape"
   ]
  },
  {
   "cell_type": "code",
   "execution_count": 20,
   "id": "b3a78e09-b712-4fd0-b63f-b01277740eb2",
   "metadata": {},
   "outputs": [
    {
     "data": {
      "text/plain": [
       "Index(['cycle', 'id', 'size', 'type', 'cloud_flag', 'bkgrd_flag',\n",
       "       'shallow_flag', 'wind_flag', 'rgt', 'seg_lat', 'seg_lon',\n",
       "       'snow_ice_flag', 'wave_flag', 'depth', 'anomalies', 'beam',\n",
       "       'start_date', 'qual0', 'qual1', 'qual2', 'qual3', 'orientation',\n",
       "       'beg_lat', 'beg_lon', 'end_lat', 'end_lon', 'sc_orient',\n",
       "       'quality_metric', 'beam_strength'],\n",
       "      dtype='object')"
      ]
     },
     "execution_count": 20,
     "metadata": {},
     "output_type": "execute_result"
    }
   ],
   "source": [
    "df.columns"
   ]
  },
  {
   "cell_type": "code",
   "execution_count": 54,
   "id": "871c551e-1cad-4bfe-bb57-d9729b1b0997",
   "metadata": {},
   "outputs": [
    {
     "ename": "TypeError",
     "evalue": "'method' object is not subscriptable",
     "output_type": "error",
     "traceback": [
      "\u001b[0;31m---------------------------------------------------------------------------\u001b[0m",
      "\u001b[0;31mTypeError\u001b[0m                                 Traceback (most recent call last)",
      "\u001b[0;32m<ipython-input-54-922f95e141c6>\u001b[0m in \u001b[0;36m<module>\u001b[0;34m\u001b[0m\n\u001b[1;32m     26\u001b[0m \u001b[0;34m\u001b[0m\u001b[0m\n\u001b[1;32m     27\u001b[0m \u001b[0;34m\u001b[0m\u001b[0m\n\u001b[0;32m---> 28\u001b[0;31m \u001b[0mprint\u001b[0m\u001b[0;34m(\u001b[0m\u001b[0mgeopy\u001b[0m\u001b[0;34m.\u001b[0m\u001b[0mdistance\u001b[0m\u001b[0;34m.\u001b[0m\u001b[0mdistance\u001b[0m\u001b[0;34m(\u001b[0m\u001b[0;34m(\u001b[0m\u001b[0mdf\u001b[0m\u001b[0;34m[\u001b[0m\u001b[0;34m'beg_lat'\u001b[0m\u001b[0;34m]\u001b[0m\u001b[0;34m.\u001b[0m\u001b[0miloc\u001b[0m\u001b[0;34m[\u001b[0m\u001b[0;36m0\u001b[0m\u001b[0;34m]\u001b[0m\u001b[0;34m,\u001b[0m \u001b[0mdf\u001b[0m\u001b[0;34m[\u001b[0m\u001b[0;34m'beg_lon'\u001b[0m\u001b[0;34m]\u001b[0m\u001b[0;34m.\u001b[0m\u001b[0miloc\u001b[0m\u001b[0;34m[\u001b[0m\u001b[0;36m0\u001b[0m\u001b[0;34m]\u001b[0m\u001b[0;34m)\u001b[0m\u001b[0;34m,\u001b[0m \u001b[0;34m(\u001b[0m\u001b[0mdf\u001b[0m\u001b[0;34m[\u001b[0m\u001b[0;34m'end_lat'\u001b[0m\u001b[0;34m]\u001b[0m\u001b[0;34m.\u001b[0m\u001b[0miloc\u001b[0m\u001b[0;34m[\u001b[0m\u001b[0;36m0\u001b[0m\u001b[0;34m]\u001b[0m\u001b[0;34m,\u001b[0m \u001b[0mdf\u001b[0m\u001b[0;34m[\u001b[0m\u001b[0;34m'end_lon'\u001b[0m\u001b[0;34m]\u001b[0m\u001b[0;34m.\u001b[0m\u001b[0miloc\u001b[0m\u001b[0;34m[\u001b[0m\u001b[0;36m0\u001b[0m\u001b[0;34m]\u001b[0m\u001b[0;34m)\u001b[0m\u001b[0;34m)\u001b[0m\u001b[0;34m.\u001b[0m\u001b[0mkm\u001b[0m\u001b[0;34m)\u001b[0m\u001b[0;34m\u001b[0m\u001b[0;34m\u001b[0m\u001b[0m\n\u001b[0m\u001b[1;32m     29\u001b[0m \u001b[0;31m# df.head()\u001b[0m\u001b[0;34m\u001b[0m\u001b[0;34m\u001b[0m\u001b[0;34m\u001b[0m\u001b[0m\n",
      "\u001b[0;31mTypeError\u001b[0m: 'method' object is not subscriptable"
     ]
    }
   ],
   "source": [
    "##I've spent a bunch of time trying to get this to work\n",
    "# #short segment distance\n",
    "# from math import radians, cos, sin, asin, sqrt\n",
    "\n",
    "# def haversine(lat1, lon1, lat2, lon2):\n",
    "\n",
    "#       R = 3959.87433 # this is in miles.  For Earth radius in kilometers use 6372.8 km\n",
    "\n",
    "#       dLat = radians(lat2 - lat1)\n",
    "#       dLon = radians(lon2 - lon1)\n",
    "#       lat1 = radians(lat1)\n",
    "#       lat2 = radians(lat2)\n",
    "\n",
    "#       a = sin(dLat/2)**2 + cos(lat1)*cos(lat2)*sin(dLon/2)**2\n",
    "#       c = 2*asin(sqrt(a))\n",
    "\n",
    "#       return R * c\n",
    "\n",
    "# # Usage\n",
    "# lon1 = -103.548851\n",
    "# lat1 = 32.0004311\n",
    "# lon2 = -103.6041946\n",
    "# lat2 = 33.374939\n",
    "\n",
    "# df['seg_dist'] = (haversine(df['beg_lat'], df['beg_lon'], df['end_lat'], df['end_lon']))\n",
    "\n",
    "\n",
    "print(geopy.distance.distance((df['beg_lat'].iloc[0], df['beg_lon'].iloc[0]), (df['end_lat'].iloc[0], df['end_lon'].iloc[0])).km)\n",
    "# df.head()"
   ]
  },
  {
   "cell_type": "code",
   "execution_count": null,
   "id": "bda19f60-7e95-4d11-b6fd-92cf3a1559af",
   "metadata": {},
   "outputs": [],
   "source": [
    "df.to_csv('data/lakes_clean.csv', sep=',', index = False)"
   ]
  },
  {
   "cell_type": "code",
   "execution_count": null,
   "id": "f3f44586-a437-454c-b00e-c37229069d40",
   "metadata": {},
   "outputs": [],
   "source": []
  },
  {
   "cell_type": "code",
   "execution_count": null,
   "id": "4c34a63c-9458-45ac-b592-fbc4331aa3ad",
   "metadata": {},
   "outputs": [],
   "source": []
  }
 ],
 "metadata": {
  "kernelspec": {
   "display_name": "Python [conda env:earthml]",
   "language": "python",
   "name": "conda-env-earthml-py"
  },
  "language_info": {
   "codemirror_mode": {
    "name": "ipython",
    "version": 3
   },
   "file_extension": ".py",
   "mimetype": "text/x-python",
   "name": "python",
   "nbconvert_exporter": "python",
   "pygments_lexer": "ipython3",
   "version": "3.8.5"
  }
 },
 "nbformat": 4,
 "nbformat_minor": 5
}
